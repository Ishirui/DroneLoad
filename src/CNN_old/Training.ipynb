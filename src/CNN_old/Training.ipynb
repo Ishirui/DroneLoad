{
 "cells": [
  {
   "cell_type": "markdown",
   "metadata": {},
   "source": [
    "# Imports"
   ]
  },
  {
   "cell_type": "code",
   "execution_count": 1,
   "metadata": {},
   "outputs": [],
   "source": [
    "import tensorflow as tf\n",
    "from tensorflow import keras\n",
    "from keras.models import Sequential\n",
    "from keras.layers import Conv2D, Dense, BatchNormalization, MaxPool2D, Flatten, Dropout\n",
    "from keras.optimizers import Adam\n",
    "\n",
    "from keras.preprocessing.image import ImageDataGenerator"
   ]
  },
  {
   "cell_type": "code",
   "execution_count": 2,
   "metadata": {},
   "outputs": [
    {
     "data": {
      "text/plain": [
       "[PhysicalDevice(name='/physical_device:GPU:0', device_type='GPU')]"
      ]
     },
     "execution_count": 2,
     "metadata": {},
     "output_type": "execute_result"
    }
   ],
   "source": [
    "tf.config.list_physical_devices(\"GPU\")\n"
   ]
  },
  {
   "cell_type": "markdown",
   "metadata": {},
   "source": [
    "# Définition du réseau"
   ]
  },
  {
   "cell_type": "code",
   "execution_count": 4,
   "metadata": {},
   "outputs": [
    {
     "name": "stdout",
     "output_type": "stream",
     "text": [
      "Model: \"sequential_1\"\n",
      "_________________________________________________________________\n",
      " Layer (type)                Output Shape              Param #   \n",
      "=================================================================\n",
      " conv2d_2 (Conv2D)           (None, 256, 256, 4)       1028      \n",
      "                                                                 \n",
      " dropout_2 (Dropout)         (None, 256, 256, 4)       0         \n",
      "                                                                 \n",
      " batch_normalization_2 (Batc  (None, 256, 256, 4)      16        \n",
      " hNormalization)                                                 \n",
      "                                                                 \n",
      " max_pooling2d_2 (MaxPooling  (None, 32, 32, 4)        0         \n",
      " 2D)                                                             \n",
      "                                                                 \n",
      " dropout_3 (Dropout)         (None, 32, 32, 4)         0         \n",
      "                                                                 \n",
      " conv2d_3 (Conv2D)           (None, 32, 32, 2)         130       \n",
      "                                                                 \n",
      " batch_normalization_3 (Batc  (None, 32, 32, 2)        8         \n",
      " hNormalization)                                                 \n",
      "                                                                 \n",
      " max_pooling2d_3 (MaxPooling  (None, 8, 8, 2)          0         \n",
      " 2D)                                                             \n",
      "                                                                 \n",
      " flatten_1 (Flatten)         (None, 128)               0         \n",
      "                                                                 \n",
      " dense_1 (Dense)             (None, 2)                 258       \n",
      "                                                                 \n",
      "=================================================================\n",
      "Total params: 1,440\n",
      "Trainable params: 1,428\n",
      "Non-trainable params: 12\n",
      "_________________________________________________________________\n"
     ]
    }
   ],
   "source": [
    "model = Sequential([\n",
    "    Conv2D(filters=4, kernel_size=(16, 16), activation = 'relu', padding = 'same', input_shape=(256,256,1)),\n",
    "    Dropout(0.15),\n",
    "    BatchNormalization(),\n",
    "    MaxPool2D(pool_size = (8,8), padding='same'),\n",
    "    Dropout(0.15),\n",
    "    Conv2D(filters=2, kernel_size=(4, 4), activation='relu', padding='same'),\n",
    "    BatchNormalization(),\n",
    "    MaxPool2D(pool_size = (4,4), padding='same'),\n",
    "    Flatten(),\n",
    "    Dense(units=2, activation='softmax')\n",
    "])\n",
    "model.build()\n",
    "model.summary()"
   ]
  },
  {
   "cell_type": "markdown",
   "metadata": {},
   "source": [
    "# Entrée de données"
   ]
  },
  {
   "cell_type": "code",
   "execution_count": 5,
   "metadata": {},
   "outputs": [
    {
     "name": "stdout",
     "output_type": "stream",
     "text": [
      "Found 6248 images belonging to 2 classes.\n",
      "Found 1334 images belonging to 2 classes.\n",
      "Found 90 images belonging to 2 classes.\n"
     ]
    }
   ],
   "source": [
    "root = \"C:\\\\Users\\\\pierr\\\\Desktop\\\\Processed_data\"\n",
    "\n",
    "train_path = root+\"\\\\train\"\n",
    "valid_path = root+\"\\\\valid\"\n",
    "test_path = root+\"\\\\test\"\n",
    "\n",
    "dg = ImageDataGenerator(featurewise_center=True, featurewise_std_normalization=True)\n",
    "\n",
    "train_batches = dg.flow_from_directory(directory=train_path, target_size=(256,256), classes=['Obj', 'NoObj'], color_mode = 'grayscale', batch_size = 1, class_mode = 'categorical', shuffle=True)\n",
    "valid_batches = dg.flow_from_directory(directory=valid_path, target_size=(256,256), classes=['Obj', 'NoObj'], color_mode = 'grayscale', batch_size = 1, class_mode = 'categorical', shuffle=True)\n",
    "test_batches = dg.flow_from_directory(directory=test_path, target_size=(256,256), classes=['Obj', 'NoObj'], color_mode = 'grayscale', batch_size = 1, shuffle=False, class_mode = 'categorical')"
   ]
  },
  {
   "cell_type": "markdown",
   "metadata": {},
   "source": [
    "# Entraînement"
   ]
  },
  {
   "cell_type": "code",
   "execution_count": 6,
   "metadata": {},
   "outputs": [],
   "source": [
    "lrate = 10**-5\n",
    "model.compile(optimizer = Adam(learning_rate=lrate), loss='categorical_crossentropy', metrics=['accuracy'])"
   ]
  },
  {
   "cell_type": "code",
   "execution_count": 7,
   "metadata": {},
   "outputs": [
    {
     "name": "stdout",
     "output_type": "stream",
     "text": [
      "Epoch 1/10\n"
     ]
    },
    {
     "name": "stderr",
     "output_type": "stream",
     "text": [
      "C:\\Users\\pierr\\AppData\\Local\\Programs\\Python\\Python39\\lib\\site-packages\\keras\\preprocessing\\image.py:1663: UserWarning: This ImageDataGenerator specifies `featurewise_center`, but it hasn't been fit on any training data. Fit it first by calling `.fit(numpy_data)`.\n",
      "  warnings.warn('This ImageDataGenerator specifies '\n",
      "C:\\Users\\pierr\\AppData\\Local\\Programs\\Python\\Python39\\lib\\site-packages\\keras\\preprocessing\\image.py:1671: UserWarning: This ImageDataGenerator specifies `featurewise_std_normalization`, but it hasn't been fit on any training data. Fit it first by calling `.fit(numpy_data)`.\n",
      "  warnings.warn('This ImageDataGenerator specifies '\n"
     ]
    },
    {
     "name": "stdout",
     "output_type": "stream",
     "text": [
      "6248/6248 - 47s - loss: 0.9261 - accuracy: 0.6588 - val_loss: 0.7111 - val_accuracy: 0.6432 - 47s/epoch - 8ms/step\n",
      "Epoch 2/10\n",
      "6248/6248 - 44s - loss: 0.6734 - accuracy: 0.7338 - val_loss: 0.6187 - val_accuracy: 0.7256 - 44s/epoch - 7ms/step\n",
      "Epoch 3/10\n",
      "6248/6248 - 44s - loss: 0.5945 - accuracy: 0.7652 - val_loss: 0.5508 - val_accuracy: 0.7579 - 44s/epoch - 7ms/step\n",
      "Epoch 4/10\n",
      "6248/6248 - 45s - loss: 0.5254 - accuracy: 0.7870 - val_loss: 0.4859 - val_accuracy: 0.7931 - 45s/epoch - 7ms/step\n",
      "Epoch 5/10\n",
      "6248/6248 - 44s - loss: 0.4872 - accuracy: 0.7991 - val_loss: 0.4494 - val_accuracy: 0.8186 - 44s/epoch - 7ms/step\n",
      "Epoch 6/10\n",
      "6248/6248 - 44s - loss: 0.4525 - accuracy: 0.8132 - val_loss: 0.4201 - val_accuracy: 0.8216 - 44s/epoch - 7ms/step\n",
      "Epoch 7/10\n",
      "6248/6248 - 42s - loss: 0.4235 - accuracy: 0.8255 - val_loss: 0.3973 - val_accuracy: 0.8358 - 42s/epoch - 7ms/step\n",
      "Epoch 8/10\n",
      "6248/6248 - 41s - loss: 0.4099 - accuracy: 0.8283 - val_loss: 0.3743 - val_accuracy: 0.8493 - 41s/epoch - 7ms/step\n",
      "Epoch 9/10\n",
      "6248/6248 - 50s - loss: 0.3910 - accuracy: 0.8358 - val_loss: 0.3628 - val_accuracy: 0.8531 - 50s/epoch - 8ms/step\n",
      "Epoch 10/10\n",
      "6248/6248 - 59s - loss: 0.3745 - accuracy: 0.8351 - val_loss: 0.3384 - val_accuracy: 0.8628 - 59s/epoch - 9ms/step\n"
     ]
    },
    {
     "data": {
      "text/plain": [
       "<keras.callbacks.History at 0x200f35c5490>"
      ]
     },
     "execution_count": 7,
     "metadata": {},
     "output_type": "execute_result"
    }
   ],
   "source": [
    "model.fit(x=train_batches,\n",
    "    steps_per_epoch=len(train_batches),\n",
    "    validation_data=valid_batches,\n",
    "    validation_steps=len(valid_batches),\n",
    "    epochs=10,\n",
    "    verbose=2\n",
    ")"
   ]
  },
  {
   "cell_type": "code",
   "execution_count": 8,
   "metadata": {},
   "outputs": [
    {
     "name": "stdout",
     "output_type": "stream",
     "text": [
      "Epoch 1/10\n"
     ]
    },
    {
     "name": "stderr",
     "output_type": "stream",
     "text": [
      "C:\\Users\\pierr\\AppData\\Local\\Programs\\Python\\Python39\\lib\\site-packages\\keras\\preprocessing\\image.py:1663: UserWarning: This ImageDataGenerator specifies `featurewise_center`, but it hasn't been fit on any training data. Fit it first by calling `.fit(numpy_data)`.\n",
      "  warnings.warn('This ImageDataGenerator specifies '\n",
      "C:\\Users\\pierr\\AppData\\Local\\Programs\\Python\\Python39\\lib\\site-packages\\keras\\preprocessing\\image.py:1671: UserWarning: This ImageDataGenerator specifies `featurewise_std_normalization`, but it hasn't been fit on any training data. Fit it first by calling `.fit(numpy_data)`.\n",
      "  warnings.warn('This ImageDataGenerator specifies '\n"
     ]
    },
    {
     "name": "stdout",
     "output_type": "stream",
     "text": [
      "6248/6248 - 56s - loss: 0.3596 - accuracy: 0.8415 - val_loss: 0.3288 - val_accuracy: 0.8658 - 56s/epoch - 9ms/step\n",
      "Epoch 2/10\n",
      "6248/6248 - 45s - loss: 0.3528 - accuracy: 0.8448 - val_loss: 0.3259 - val_accuracy: 0.8726 - 45s/epoch - 7ms/step\n",
      "Epoch 3/10\n",
      "6248/6248 - 55s - loss: 0.3432 - accuracy: 0.8488 - val_loss: 0.3252 - val_accuracy: 0.8703 - 55s/epoch - 9ms/step\n",
      "Epoch 4/10\n",
      "6248/6248 - 57s - loss: 0.3276 - accuracy: 0.8579 - val_loss: 0.3081 - val_accuracy: 0.8748 - 57s/epoch - 9ms/step\n",
      "Epoch 5/10\n",
      "6248/6248 - 52s - loss: 0.3239 - accuracy: 0.8584 - val_loss: 0.3215 - val_accuracy: 0.8748 - 52s/epoch - 8ms/step\n",
      "Epoch 6/10\n",
      "6248/6248 - 53s - loss: 0.3190 - accuracy: 0.8595 - val_loss: 0.3045 - val_accuracy: 0.8906 - 53s/epoch - 8ms/step\n",
      "Epoch 7/10\n",
      "6248/6248 - 46s - loss: 0.3064 - accuracy: 0.8640 - val_loss: 0.2927 - val_accuracy: 0.8921 - 46s/epoch - 7ms/step\n",
      "Epoch 8/10\n",
      "6248/6248 - 48s - loss: 0.2990 - accuracy: 0.8729 - val_loss: 0.2938 - val_accuracy: 0.8898 - 48s/epoch - 8ms/step\n",
      "Epoch 9/10\n",
      "6248/6248 - 56s - loss: 0.2969 - accuracy: 0.8668 - val_loss: 0.2840 - val_accuracy: 0.8921 - 56s/epoch - 9ms/step\n",
      "Epoch 10/10\n",
      "6248/6248 - 55s - loss: 0.2917 - accuracy: 0.8712 - val_loss: 0.2955 - val_accuracy: 0.8921 - 55s/epoch - 9ms/step\n"
     ]
    },
    {
     "data": {
      "text/plain": [
       "<keras.callbacks.History at 0x20096c6cbb0>"
      ]
     },
     "execution_count": 8,
     "metadata": {},
     "output_type": "execute_result"
    }
   ],
   "source": [
    "#2e entraînement, le premier est pas allé au bout\n",
    "model.fit(x=train_batches,\n",
    "    steps_per_epoch=len(train_batches),\n",
    "    validation_data=valid_batches,\n",
    "    validation_steps=len(valid_batches),\n",
    "    epochs=10,\n",
    "    verbose=2\n",
    ")"
   ]
  },
  {
   "cell_type": "code",
   "execution_count": 9,
   "metadata": {},
   "outputs": [
    {
     "name": "stderr",
     "output_type": "stream",
     "text": [
      "C:\\Users\\pierr\\AppData\\Local\\Programs\\Python\\Python39\\lib\\site-packages\\keras\\preprocessing\\image.py:1663: UserWarning: This ImageDataGenerator specifies `featurewise_center`, but it hasn't been fit on any training data. Fit it first by calling `.fit(numpy_data)`.\n",
      "  warnings.warn('This ImageDataGenerator specifies '\n",
      "C:\\Users\\pierr\\AppData\\Local\\Programs\\Python\\Python39\\lib\\site-packages\\keras\\preprocessing\\image.py:1671: UserWarning: This ImageDataGenerator specifies `featurewise_std_normalization`, but it hasn't been fit on any training data. Fit it first by calling `.fit(numpy_data)`.\n",
      "  warnings.warn('This ImageDataGenerator specifies '\n"
     ]
    },
    {
     "name": "stdout",
     "output_type": "stream",
     "text": [
      "Epoch 1/10\n",
      "6248/6248 - 46s - loss: 0.2833 - accuracy: 0.8763 - val_loss: 0.2666 - val_accuracy: 0.8988 - 46s/epoch - 7ms/step\n",
      "Epoch 2/10\n",
      "6248/6248 - 44s - loss: 0.2806 - accuracy: 0.8796 - val_loss: 0.2800 - val_accuracy: 0.8973 - 44s/epoch - 7ms/step\n",
      "Epoch 3/10\n",
      "6248/6248 - 44s - loss: 0.2730 - accuracy: 0.8819 - val_loss: 0.2631 - val_accuracy: 0.9025 - 44s/epoch - 7ms/step\n",
      "Epoch 4/10\n",
      "6248/6248 - 53s - loss: 0.2707 - accuracy: 0.8844 - val_loss: 0.2694 - val_accuracy: 0.9048 - 53s/epoch - 8ms/step\n",
      "Epoch 5/10\n",
      "6248/6248 - 58s - loss: 0.2690 - accuracy: 0.8798 - val_loss: 0.2614 - val_accuracy: 0.9018 - 58s/epoch - 9ms/step\n",
      "Epoch 6/10\n",
      "6248/6248 - 52s - loss: 0.2647 - accuracy: 0.8908 - val_loss: 0.2564 - val_accuracy: 0.9048 - 52s/epoch - 8ms/step\n",
      "Epoch 7/10\n",
      "6248/6248 - 53s - loss: 0.2580 - accuracy: 0.8900 - val_loss: 0.2549 - val_accuracy: 0.9085 - 53s/epoch - 9ms/step\n",
      "Epoch 8/10\n",
      "6248/6248 - 43s - loss: 0.2566 - accuracy: 0.8904 - val_loss: 0.2509 - val_accuracy: 0.9100 - 43s/epoch - 7ms/step\n",
      "Epoch 9/10\n",
      "6248/6248 - 54s - loss: 0.2501 - accuracy: 0.8923 - val_loss: 0.2623 - val_accuracy: 0.9078 - 54s/epoch - 9ms/step\n",
      "Epoch 10/10\n",
      "6248/6248 - 53s - loss: 0.2451 - accuracy: 0.8953 - val_loss: 0.2536 - val_accuracy: 0.9070 - 53s/epoch - 8ms/step\n"
     ]
    },
    {
     "data": {
      "text/plain": [
       "<keras.callbacks.History at 0x20096cec490>"
      ]
     },
     "execution_count": 9,
     "metadata": {},
     "output_type": "execute_result"
    }
   ],
   "source": [
    "#Encore un coup...\n",
    "model.fit(x=train_batches,\n",
    "    steps_per_epoch=len(train_batches),\n",
    "    validation_data=valid_batches,\n",
    "    validation_steps=len(valid_batches),\n",
    "    epochs=10,\n",
    "    verbose=2\n",
    ")"
   ]
  },
  {
   "cell_type": "markdown",
   "metadata": {},
   "source": [
    "# Sauvegarde"
   ]
  },
  {
   "cell_type": "code",
   "execution_count": 10,
   "metadata": {},
   "outputs": [
    {
     "name": "stderr",
     "output_type": "stream",
     "text": [
      "WARNING:absl:Found untraced functions such as _jit_compiled_convolution_op, _jit_compiled_convolution_op while saving (showing 2 of 2). These functions will not be directly callable after loading.\n"
     ]
    },
    {
     "name": "stdout",
     "output_type": "stream",
     "text": [
      "INFO:tensorflow:Assets written to: model\\assets\n"
     ]
    },
    {
     "name": "stderr",
     "output_type": "stream",
     "text": [
      "INFO:tensorflow:Assets written to: model\\assets\n"
     ]
    }
   ],
   "source": [
    "model.save(\"model\")"
   ]
  },
  {
   "cell_type": "markdown",
   "metadata": {},
   "source": [
    "# Test"
   ]
  },
  {
   "cell_type": "code",
   "execution_count": null,
   "metadata": {},
   "outputs": [],
   "source": [
    "keras.models.load()"
   ]
  },
  {
   "cell_type": "code",
   "execution_count": null,
   "metadata": {},
   "outputs": [
    {
     "ename": "NameError",
     "evalue": "name 'model' is not defined",
     "output_type": "error",
     "traceback": [
      "\u001b[1;31m---------------------------------------------------------------------------\u001b[0m",
      "\u001b[1;31mNameError\u001b[0m                                 Traceback (most recent call last)",
      "\u001b[1;32m~\\AppData\\Local\\Temp/ipykernel_11144/1099371916.py\u001b[0m in \u001b[0;36m<module>\u001b[1;34m\u001b[0m\n\u001b[1;32m----> 1\u001b[1;33m \u001b[0mmodel\u001b[0m\u001b[1;33m.\u001b[0m\u001b[0mevaluate\u001b[0m\u001b[1;33m(\u001b[0m\u001b[0mx\u001b[0m \u001b[1;33m=\u001b[0m \u001b[0mtest_batches\u001b[0m\u001b[1;33m)\u001b[0m\u001b[1;33m\u001b[0m\u001b[1;33m\u001b[0m\u001b[0m\n\u001b[0m",
      "\u001b[1;31mNameError\u001b[0m: name 'model' is not defined"
     ]
    }
   ],
   "source": [
    "model.evaluate(x = test_batches)"
   ]
  },
  {
   "cell_type": "code",
   "execution_count": null,
   "metadata": {},
   "outputs": [],
   "source": []
  }
 ],
 "metadata": {
  "interpreter": {
   "hash": "60b51427f979fa642d0033feef923a8722499a3dd60fba6b33cc7fbc8e3730d0"
  },
  "kernelspec": {
   "display_name": "Python 3.9.7 64-bit",
   "language": "python",
   "name": "python3"
  },
  "language_info": {
   "codemirror_mode": {
    "name": "ipython",
    "version": 3
   },
   "file_extension": ".py",
   "mimetype": "text/x-python",
   "name": "python",
   "nbconvert_exporter": "python",
   "pygments_lexer": "ipython3",
   "version": "3.9.7"
  },
  "orig_nbformat": 4
 },
 "nbformat": 4,
 "nbformat_minor": 2
}
